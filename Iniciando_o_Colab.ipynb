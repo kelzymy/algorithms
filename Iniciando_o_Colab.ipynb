{
  "nbformat": 4,
  "nbformat_minor": 0,
  "metadata": {
    "colab": {
      "provenance": [],
      "authorship_tag": "ABX9TyMk4tD6p3qYqJfoLYgTkbxb",
      "include_colab_link": true
    },
    "kernelspec": {
      "name": "python3",
      "display_name": "Python 3"
    },
    "language_info": {
      "name": "python"
    }
  },
  "cells": [
    {
      "cell_type": "markdown",
      "metadata": {
        "id": "view-in-github",
        "colab_type": "text"
      },
      "source": [
        "<a href=\"https://colab.research.google.com/github/kelzymy/algorithms/blob/master/Iniciando_o_Colab.ipynb\" target=\"_parent\"><img src=\"https://colab.research.google.com/assets/colab-badge.svg\" alt=\"Open In Colab\"/></a>"
      ]
    },
    {
      "cell_type": "markdown",
      "source": [
        "Iniciando com o Colab\n",
        "\n",
        "*  CTRL + Enter : Execultar o có\n",
        "digo de uma célula\n"
      ],
      "metadata": {
        "id": "XiGPOI7LGEyV"
      }
    },
    {
      "cell_type": "code",
      "execution_count": null,
      "metadata": {
        "id": "7aTLorZvEfq1"
      },
      "outputs": [],
      "source": [
        "print (\"Meu nome é Raquel\")"
      ]
    },
    {
      "cell_type": "markdown",
      "source": [
        "# Tipos de Variáveis\n",
        "\n",
        "* Srting\n",
        "* Interior\n",
        "* Reais (float)"
      ],
      "metadata": {
        "id": "eaOLXLT5GcrS"
      }
    },
    {
      "cell_type": "code",
      "source": [
        "mensagem = \"exemplo de uma mensagem de texto\"\n",
        "idade = 25\n",
        "pi = 3.1415"
      ],
      "metadata": {
        "id": "GjcEs25YHEsa"
      },
      "execution_count": 1,
      "outputs": []
    },
    {
      "cell_type": "code",
      "source": [
        "print(mensagem)"
      ],
      "metadata": {
        "colab": {
          "base_uri": "https://localhost:8080/"
        },
        "id": "kopEsjVKHVLR",
        "outputId": "85ce2171-5817-4063-817d-beb57e32e01f"
      },
      "execution_count": 2,
      "outputs": [
        {
          "output_type": "stream",
          "name": "stdout",
          "text": [
            "exemplo de uma mensagem de texto\n"
          ]
        }
      ]
    },
    {
      "cell_type": "code",
      "source": [
        "type(mensagem)"
      ],
      "metadata": {
        "colab": {
          "base_uri": "https://localhost:8080/"
        },
        "id": "7RYrYSBUHdZS",
        "outputId": "8860fad6-9313-4b85-8475-c337315cd465"
      },
      "execution_count": 3,
      "outputs": [
        {
          "output_type": "execute_result",
          "data": {
            "text/plain": [
              "str"
            ]
          },
          "metadata": {},
          "execution_count": 3
        }
      ]
    },
    {
      "cell_type": "code",
      "source": [
        "print(pi)"
      ],
      "metadata": {
        "colab": {
          "base_uri": "https://localhost:8080/"
        },
        "id": "r5SGXkMMHhvh",
        "outputId": "6ab78340-9ec4-42ec-97b7-604505dff4dd"
      },
      "execution_count": 4,
      "outputs": [
        {
          "output_type": "stream",
          "name": "stdout",
          "text": [
            "3.1415\n"
          ]
        }
      ]
    },
    {
      "cell_type": "code",
      "source": [
        "type(pi)"
      ],
      "metadata": {
        "colab": {
          "base_uri": "https://localhost:8080/"
        },
        "id": "CZTpmY_hHmZi",
        "outputId": "5c998fa3-d126-41bc-ce46-c72ef51b4318"
      },
      "execution_count": 5,
      "outputs": [
        {
          "output_type": "execute_result",
          "data": {
            "text/plain": [
              "float"
            ]
          },
          "metadata": {},
          "execution_count": 5
        }
      ]
    }
  ]
}